{
 "cells": [
  {
   "cell_type": "code",
   "execution_count": 14,
   "metadata": {},
   "outputs": [],
   "source": [
    "# Perform sentiment analysis on the clean_biden_tweets.csv file using NLTK\n",
    "import nltk\n",
    "from nltk.sentiment import SentimentIntensityAnalyzer\n",
    "import pandas as pd\n",
    "from nltk.tokenize import word_tokenize\n",
    "from nltk.corpus import stopwords\n",
    "import string\n",
    "import re"
   ]
  },
  {
   "cell_type": "code",
   "execution_count": 15,
   "metadata": {},
   "outputs": [
    {
     "data": {
      "text/html": [
       "<div>\n",
       "<style scoped>\n",
       "    .dataframe tbody tr th:only-of-type {\n",
       "        vertical-align: middle;\n",
       "    }\n",
       "\n",
       "    .dataframe tbody tr th {\n",
       "        vertical-align: top;\n",
       "    }\n",
       "\n",
       "    .dataframe thead th {\n",
       "        text-align: right;\n",
       "    }\n",
       "</style>\n",
       "<table border=\"1\" class=\"dataframe\">\n",
       "  <thead>\n",
       "    <tr style=\"text-align: right;\">\n",
       "      <th></th>\n",
       "      <th>created_at</th>\n",
       "      <th>lang</th>\n",
       "      <th>text</th>\n",
       "      <th>retweet_count</th>\n",
       "      <th>reply_count</th>\n",
       "      <th>like_count</th>\n",
       "      <th>quote_count</th>\n",
       "      <th>bookmark_count</th>\n",
       "      <th>impression_count</th>\n",
       "    </tr>\n",
       "  </thead>\n",
       "  <tbody>\n",
       "    <tr>\n",
       "      <th>0</th>\n",
       "      <td>2024-02-02 00:59:26+00:00</td>\n",
       "      <td>en</td>\n",
       "      <td>BREAKING!! Trump does black face.</td>\n",
       "      <td>0</td>\n",
       "      <td>0</td>\n",
       "      <td>0</td>\n",
       "      <td>0</td>\n",
       "      <td>0</td>\n",
       "      <td>0</td>\n",
       "    </tr>\n",
       "    <tr>\n",
       "      <th>1</th>\n",
       "      <td>2024-02-02 00:59:26+00:00</td>\n",
       "      <td>en</td>\n",
       "      <td>LMAO and trump  put them in cages, how do you...</td>\n",
       "      <td>0</td>\n",
       "      <td>0</td>\n",
       "      <td>0</td>\n",
       "      <td>0</td>\n",
       "      <td>0</td>\n",
       "      <td>1</td>\n",
       "    </tr>\n",
       "    <tr>\n",
       "      <th>2</th>\n",
       "      <td>2024-02-02 00:59:26+00:00</td>\n",
       "      <td>en</td>\n",
       "      <td>Did you question Trumps speech?</td>\n",
       "      <td>0</td>\n",
       "      <td>0</td>\n",
       "      <td>0</td>\n",
       "      <td>0</td>\n",
       "      <td>0</td>\n",
       "      <td>0</td>\n",
       "    </tr>\n",
       "    <tr>\n",
       "      <th>3</th>\n",
       "      <td>2024-02-02 00:59:26+00:00</td>\n",
       "      <td>en</td>\n",
       "      <td>must  anger you Trump had 0 wars no inflation...</td>\n",
       "      <td>0</td>\n",
       "      <td>0</td>\n",
       "      <td>0</td>\n",
       "      <td>0</td>\n",
       "      <td>0</td>\n",
       "      <td>0</td>\n",
       "    </tr>\n",
       "    <tr>\n",
       "      <th>4</th>\n",
       "      <td>2024-02-02 00:59:26+00:00</td>\n",
       "      <td>en</td>\n",
       "      <td>LIES!!!!  ALL LIES!!!!  PRESIDENT TRUMP ROCKS...</td>\n",
       "      <td>0</td>\n",
       "      <td>0</td>\n",
       "      <td>0</td>\n",
       "      <td>0</td>\n",
       "      <td>0</td>\n",
       "      <td>0</td>\n",
       "    </tr>\n",
       "    <tr>\n",
       "      <th>...</th>\n",
       "      <td>...</td>\n",
       "      <td>...</td>\n",
       "      <td>...</td>\n",
       "      <td>...</td>\n",
       "      <td>...</td>\n",
       "      <td>...</td>\n",
       "      <td>...</td>\n",
       "      <td>...</td>\n",
       "      <td>...</td>\n",
       "    </tr>\n",
       "    <tr>\n",
       "      <th>995</th>\n",
       "      <td>2024-02-02 00:56:28+00:00</td>\n",
       "      <td>en</td>\n",
       "      <td>Undoubtedly</td>\n",
       "      <td>0</td>\n",
       "      <td>0</td>\n",
       "      <td>1</td>\n",
       "      <td>0</td>\n",
       "      <td>0</td>\n",
       "      <td>5</td>\n",
       "    </tr>\n",
       "    <tr>\n",
       "      <th>996</th>\n",
       "      <td>2024-02-02 00:56:27+00:00</td>\n",
       "      <td>en</td>\n",
       "      <td>When you make posts like this, you come acros...</td>\n",
       "      <td>0</td>\n",
       "      <td>0</td>\n",
       "      <td>0</td>\n",
       "      <td>0</td>\n",
       "      <td>0</td>\n",
       "      <td>1</td>\n",
       "    </tr>\n",
       "    <tr>\n",
       "      <th>997</th>\n",
       "      <td>2024-02-02 00:56:27+00:00</td>\n",
       "      <td>en</td>\n",
       "      <td>Fuck Trump. He has donors.</td>\n",
       "      <td>0</td>\n",
       "      <td>0</td>\n",
       "      <td>0</td>\n",
       "      <td>0</td>\n",
       "      <td>0</td>\n",
       "      <td>0</td>\n",
       "    </tr>\n",
       "    <tr>\n",
       "      <th>998</th>\n",
       "      <td>2024-02-02 00:56:27+00:00</td>\n",
       "      <td>en</td>\n",
       "      <td>Trumps going to kill Haley in So. Carolina.</td>\n",
       "      <td>0</td>\n",
       "      <td>0</td>\n",
       "      <td>0</td>\n",
       "      <td>0</td>\n",
       "      <td>0</td>\n",
       "      <td>3</td>\n",
       "    </tr>\n",
       "    <tr>\n",
       "      <th>999</th>\n",
       "      <td>2024-02-02 00:56:26+00:00</td>\n",
       "      <td>en</td>\n",
       "      <td>Yes!  TRUMP doesnt hesitate to say what he fe...</td>\n",
       "      <td>0</td>\n",
       "      <td>0</td>\n",
       "      <td>0</td>\n",
       "      <td>0</td>\n",
       "      <td>0</td>\n",
       "      <td>4</td>\n",
       "    </tr>\n",
       "  </tbody>\n",
       "</table>\n",
       "<p>1000 rows × 9 columns</p>\n",
       "</div>"
      ],
      "text/plain": [
       "                    created_at lang  \\\n",
       "0    2024-02-02 00:59:26+00:00   en   \n",
       "1    2024-02-02 00:59:26+00:00   en   \n",
       "2    2024-02-02 00:59:26+00:00   en   \n",
       "3    2024-02-02 00:59:26+00:00   en   \n",
       "4    2024-02-02 00:59:26+00:00   en   \n",
       "..                         ...  ...   \n",
       "995  2024-02-02 00:56:28+00:00   en   \n",
       "996  2024-02-02 00:56:27+00:00   en   \n",
       "997  2024-02-02 00:56:27+00:00   en   \n",
       "998  2024-02-02 00:56:27+00:00   en   \n",
       "999  2024-02-02 00:56:26+00:00   en   \n",
       "\n",
       "                                                  text  retweet_count  \\\n",
       "0                  BREAKING!! Trump does black face.                0   \n",
       "1     LMAO and trump  put them in cages, how do you...              0   \n",
       "2                      Did you question Trumps speech?              0   \n",
       "3     must  anger you Trump had 0 wars no inflation...              0   \n",
       "4     LIES!!!!  ALL LIES!!!!  PRESIDENT TRUMP ROCKS...              0   \n",
       "..                                                 ...            ...   \n",
       "995                                        Undoubtedly              0   \n",
       "996   When you make posts like this, you come acros...              0   \n",
       "997                         Fuck Trump. He has donors.              0   \n",
       "998        Trumps going to kill Haley in So. Carolina.              0   \n",
       "999   Yes!  TRUMP doesnt hesitate to say what he fe...              0   \n",
       "\n",
       "     reply_count  like_count  quote_count  bookmark_count  impression_count  \n",
       "0              0           0            0               0                 0  \n",
       "1              0           0            0               0                 1  \n",
       "2              0           0            0               0                 0  \n",
       "3              0           0            0               0                 0  \n",
       "4              0           0            0               0                 0  \n",
       "..           ...         ...          ...             ...               ...  \n",
       "995            0           1            0               0                 5  \n",
       "996            0           0            0               0                 1  \n",
       "997            0           0            0               0                 0  \n",
       "998            0           0            0               0                 3  \n",
       "999            0           0            0               0                 4  \n",
       "\n",
       "[1000 rows x 9 columns]"
      ]
     },
     "execution_count": 15,
     "metadata": {},
     "output_type": "execute_result"
    }
   ],
   "source": [
    "# Read in the clean_trump_tweets.csv file\n",
    "df = pd.read_csv('clean_trump_tweets.csv')\n",
    "df"
   ]
  },
  {
   "cell_type": "code",
   "execution_count": 16,
   "metadata": {},
   "outputs": [],
   "source": [
    "# text to list\n",
    "tweets = df['text'].tolist()"
   ]
  },
  {
   "cell_type": "code",
   "execution_count": 17,
   "metadata": {},
   "outputs": [],
   "source": [
    "# Drop NA\n",
    "tweets = [x for x in tweets if str(x) != 'nan']"
   ]
  },
  {
   "cell_type": "code",
   "execution_count": 18,
   "metadata": {},
   "outputs": [
    {
     "name": "stderr",
     "output_type": "stream",
     "text": [
      "[nltk_data] Downloading package punkt to\n",
      "[nltk_data]     C:\\Users\\neilg\\AppData\\Roaming\\nltk_data...\n",
      "[nltk_data]   Package punkt is already up-to-date!\n",
      "[nltk_data] Downloading package stopwords to\n",
      "[nltk_data]     C:\\Users\\neilg\\AppData\\Roaming\\nltk_data...\n",
      "[nltk_data]   Package stopwords is already up-to-date!\n"
     ]
    }
   ],
   "source": [
    "# Download necessary NLTK data\n",
    "nltk.download('punkt')\n",
    "nltk.download('stopwords')\n",
    "\n",
    "stop_words = set(stopwords.words('english'))"
   ]
  },
  {
   "cell_type": "code",
   "execution_count": 19,
   "metadata": {},
   "outputs": [],
   "source": [
    "# Preprocess the tweets\n",
    "def preprocess_text(text):\n",
    "    # Tokenize\n",
    "    tokens = word_tokenize(text)\n",
    "    # Convert to lowercase\n",
    "    tokens = [w.lower() for w in tokens]\n",
    "    # Remove punctuation\n",
    "    table = str.maketrans('', '', string.punctuation)\n",
    "    stripped = [w.translate(table) for w in tokens]\n",
    "    # Remove remaining tokens that are not alphabetic\n",
    "    words = [word for word in stripped if word.isalpha()]\n",
    "    # Filter out stop words\n",
    "    words = [w for w in words if not w in stop_words]\n",
    "    return words\n"
   ]
  },
  {
   "cell_type": "code",
   "execution_count": 20,
   "metadata": {},
   "outputs": [],
   "source": [
    "# Apply preprocessing to each tweet\n",
    "processed_tweets = [preprocess_text(tweet) for tweet in tweets]"
   ]
  },
  {
   "cell_type": "code",
   "execution_count": 21,
   "metadata": {},
   "outputs": [
    {
     "name": "stderr",
     "output_type": "stream",
     "text": [
      "[nltk_data] Downloading package vader_lexicon to\n",
      "[nltk_data]     C:\\Users\\neilg\\AppData\\Roaming\\nltk_data...\n",
      "[nltk_data]   Package vader_lexicon is already up-to-date!\n"
     ]
    },
    {
     "data": {
      "text/plain": [
       "True"
      ]
     },
     "execution_count": 21,
     "metadata": {},
     "output_type": "execute_result"
    }
   ],
   "source": [
    "# Download the VADER lexicon\n",
    "nltk.download('vader_lexicon')\n"
   ]
  },
  {
   "cell_type": "code",
   "execution_count": 22,
   "metadata": {},
   "outputs": [],
   "source": [
    "def categorize_sentiment(sentiment_score):\n",
    "    if sentiment_score['compound'] > 0.05:\n",
    "        return 'Positive'\n",
    "    elif sentiment_score['compound'] < -0.05:\n",
    "        return 'Negative'\n",
    "    else:\n",
    "        return 'Neutral'\n"
   ]
  },
  {
   "cell_type": "code",
   "execution_count": 23,
   "metadata": {},
   "outputs": [
    {
     "name": "stdout",
     "output_type": "stream",
     "text": [
      "['Neutral', 'Positive', 'Neutral', 'Negative', 'Positive']\n"
     ]
    }
   ],
   "source": [
    "sia = SentimentIntensityAnalyzer()\n",
    "sentiments = [sia.polarity_scores(tweet) for tweet in tweets]\n",
    "\n",
    "# Categorize each tweet\n",
    "categories = [categorize_sentiment(sentiment) for sentiment in sentiments]\n",
    "\n",
    "# Example: print category of the first few tweets\n",
    "print(categories[:5])"
   ]
  },
  {
   "cell_type": "code",
   "execution_count": 24,
   "metadata": {},
   "outputs": [],
   "source": [
    "# Visualize the sentiment scores\n",
    "sentiments_df = pd.DataFrame(sentiments)\n"
   ]
  },
  {
   "cell_type": "code",
   "execution_count": 25,
   "metadata": {},
   "outputs": [],
   "source": [
    "# Assuming 'categories' is your list of sentiment categories for each tweet\n",
    "categories_df = pd.DataFrame(categories, columns=['Sentiment'])\n",
    "\n",
    "# Count the occurrences of each sentiment category\n",
    "sentiment_counts = categories_df['Sentiment'].value_counts()\n",
    "\n",
    "# Convert counts to a DataFrame for easy plotting\n",
    "sentiment_counts_df = sentiment_counts.reset_index()\n",
    "sentiment_counts_df.columns = ['Sentiment', 'Count']\n"
   ]
  },
  {
   "cell_type": "code",
   "execution_count": 26,
   "metadata": {},
   "outputs": [
    {
     "data": {
      "text/plain": [
       "<Axes: title={'center': 'Trump 2024 Tweet Sentiment Analysis'}, ylabel='Count'>"
      ]
     },
     "execution_count": 26,
     "metadata": {},
     "output_type": "execute_result"
    },
    {
     "data": {
      "image/png": "[encoded data removed]",
      "text/plain": [
       "<Figure size 640x480 with 1 Axes>"
      ]
     },
     "metadata": {},
     "output_type": "display_data"
    }
   ],
   "source": [
    "# Plot the sentiment counts\n",
    "sentiment_counts_df.plot(kind='pie', y='Count', labels=sentiment_counts_df['Sentiment'], autopct='%1.1f%%', legend=False, title='Trump 2024 Tweet Sentiment Analysis')\n",
    "\n"
   ]
  }
 ],
 "metadata": {
  "kernelspec": {
   "display_name": "dev",
   "language": "python",
   "name": "python3"
  },
  "language_info": {
   "codemirror_mode": {
    "name": "ipython",
    "version": 3
   },
   "file_extension": ".py",
   "mimetype": "text/x-python",
   "name": "python",
   "nbconvert_exporter": "python",
   "pygments_lexer": "ipython3",
   "version": "3.10.13"
  }
 },
 "nbformat": 4,
 "nbformat_minor": 2
}
